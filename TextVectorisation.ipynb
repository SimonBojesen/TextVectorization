{
 "cells": [
  {
   "cell_type": "markdown",
   "metadata": {},
   "source": [
    "# Vectorisation of Text Data"
   ]
  },
  {
   "cell_type": "markdown",
   "metadata": {},
   "source": [
    "The process of converting or transforming a data set into a set of Vectors is called Vectorization."
   ]
  },
  {
   "cell_type": "code",
   "execution_count": 1,
   "metadata": {},
   "outputs": [],
   "source": [
    "# import libraries\n",
    "import pandas as pd\n",
    "import sklearn as sk\n",
    "import math "
   ]
  },
  {
   "cell_type": "code",
   "execution_count": 2,
   "metadata": {},
   "outputs": [],
   "source": [
    "# Calculate dot product of two vectors, divide it by the magnitudes to find the cos(angle between them)\n",
    "# Use the result as a correlation coefficient \n",
    "from collections import Counter\n",
    "\n",
    "def cosine(vector1, vector2):\n",
    "     # calculate nominator as a dot product\n",
    "     intersect = set(vector1.keys()) & set(vector2.keys())\n",
    "     numerator = sum([vector1[x] * vector2[x] for x in intersect])\n",
    "    \n",
    "     # calculate the denominator \n",
    "     sum1 = sum([vector1[x] ** 2 for x in list(vector1.keys())])\n",
    "     sum2 = sum([vector2[x] ** 2 for x in list(vector2.keys())])\n",
    "    \n",
    "     denominator = math.sqrt(sum1) * math.sqrt(sum2)\n",
    "     if not denominator:\n",
    "         return 0.0\n",
    "     else:\n",
    "         return float(numerator)/denominator\n"
   ]
  },
  {
   "cell_type": "markdown",
   "metadata": {},
   "source": [
    "# Assignment"
   ]
  },
  {
   "cell_type": "code",
   "execution_count": 3,
   "metadata": {},
   "outputs": [],
   "source": [
    "with open('TextFiles/new/A.txt', 'r', encoding='utf8', errors='ignore') as a:\n",
    "    A = a.read().replace('\\n', '')\n",
    "with open('TextFiles/new/B.txt', 'r', encoding='utf8', errors='ignore') as b:\n",
    "    B = b.read().replace('\\n', '')\n",
    "with open('TextFiles/new/C.txt', 'r', encoding='utf8', errors='ignore') as c:\n",
    "    C = c.read().replace('\\n', '')\n",
    "    \n",
    "A1 = A.split(\" \") \n",
    "B1 = B.split(\" \") \n",
    "C1 = C.split(\" \") \n",
    "\n",
    "# join the sets of words to remove duplications\n",
    "all= set(A1).union(set(B1).union(C1))\n",
    "#print(all)"
   ]
  },
  {
   "cell_type": "code",
   "execution_count": 4,
   "metadata": {},
   "outputs": [],
   "source": [
    "def convertTextToVector(text):\n",
    "    x = dict.fromkeys(all, 0) \n",
    "    for word in text:\n",
    "        x[word]+=1\n",
    "    return x"
   ]
  },
  {
   "cell_type": "code",
   "execution_count": 5,
   "metadata": {},
   "outputs": [],
   "source": [
    "def compareVectors():\n",
    "    AVector = convertTextToVector(A1)\n",
    "    BVector = convertTextToVector(B1)\n",
    "    CVector = convertTextToVector(C1)\n",
    "    \n",
    "    corrAB = cosine(AVector, BVector)\n",
    "    print(\"Similarity on A and B: \", corrAB)\n",
    "    \n",
    "    corrAC = cosine(AVector, CVector)\n",
    "    print(\"Similarity on A and C: \", corrAC)\n",
    "    \n",
    "    corrBC = cosine(BVector, CVector)\n",
    "    print(\"Similarity on B and C: \", corrBC)\n",
    "    \n",
    "    suggestion = \"\"\n",
    "    \n",
    "    highest = 0\n",
    "    corrarray = [corrAB, corrAC, corrBC]\n",
    "    for i in corrarray:\n",
    "        if highest < i:\n",
    "            highest = i\n",
    "            \n",
    "    if highest == corrAB:\n",
    "        suggestion = \"Text A = X, Text B = X, Text C = Y\"\n",
    "    elif highest == corrAC:\n",
    "        suggestion = \"Text A = X, Text B = Y, Text C = X\"\n",
    "    else:\n",
    "        suggestion = \"Text A = Y, Text B = X, Text C = X\"\n",
    "    return suggestion"
   ]
  },
  {
   "cell_type": "code",
   "execution_count": 6,
   "metadata": {},
   "outputs": [
    {
     "name": "stdout",
     "output_type": "stream",
     "text": [
      "Similarity on A and B:  0.9419279043799211\n",
      "Similarity on A and C:  0.8239407217000034\n",
      "Similarity on B and C:  0.8155038051014436\n",
      "Text A = X, Text B = X, Text C = Y\n"
     ]
    }
   ],
   "source": [
    "suggestion = compareVectors()\n",
    "print(suggestion)"
   ]
  },
  {
   "cell_type": "code",
   "execution_count": null,
   "metadata": {},
   "outputs": [],
   "source": []
  },
  {
   "cell_type": "code",
   "execution_count": null,
   "metadata": {},
   "outputs": [],
   "source": []
  },
  {
   "cell_type": "code",
   "execution_count": null,
   "metadata": {},
   "outputs": [],
   "source": []
  }
 ],
 "metadata": {
  "kernelspec": {
   "display_name": "Python 3",
   "language": "python",
   "name": "python3"
  },
  "language_info": {
   "codemirror_mode": {
    "name": "ipython",
    "version": 3
   },
   "file_extension": ".py",
   "mimetype": "text/x-python",
   "name": "python",
   "nbconvert_exporter": "python",
   "pygments_lexer": "ipython3",
   "version": "3.9.0"
  }
 },
 "nbformat": 4,
 "nbformat_minor": 4
}
