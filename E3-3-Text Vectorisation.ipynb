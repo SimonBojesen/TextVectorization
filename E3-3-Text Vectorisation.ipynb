{
 "cells": [
  {
   "cell_type": "markdown",
   "metadata": {},
   "source": [
    "# Vectorisation of Text Data"
   ]
  },
  {
   "cell_type": "markdown",
   "metadata": {},
   "source": [
    "The process of converting or transforming a data set into a set of Vectors is called Vectorization."
   ]
  },
  {
   "cell_type": "code",
   "execution_count": 1,
   "metadata": {},
   "outputs": [],
   "source": [
    "# import libraries\n",
    "import pandas as pd\n",
    "import sklearn as sk\n",
    "import math "
   ]
  },
  {
   "cell_type": "code",
   "execution_count": 2,
   "metadata": {},
   "outputs": [],
   "source": [
    "# enter two sentences for the test\n",
    "sent1 = \"Hej med dig.\"\n",
    "sent2 = \"Hej med dig med mig\""
   ]
  },
  {
   "cell_type": "code",
   "execution_count": 3,
   "metadata": {},
   "outputs": [],
   "source": [
    "# parse the sentences in words\n",
    "sent1 = sent1.split(\" \")\n",
    "sent2 = sent2.split(\" \")"
   ]
  },
  {
   "cell_type": "code",
   "execution_count": 4,
   "metadata": {},
   "outputs": [
    {
     "name": "stdout",
     "output_type": "stream",
     "text": [
      "{'dig', 'Hej', 'mig', 'dig.', 'med'}\n"
     ]
    }
   ],
   "source": [
    "# join the sets of words to remove duplications\n",
    "all= set(sent1).union(set(sent2))\n",
    "print(all)"
   ]
  },
  {
   "cell_type": "code",
   "execution_count": 5,
   "metadata": {},
   "outputs": [
    {
     "data": {
      "text/plain": [
       "5"
      ]
     },
     "execution_count": 5,
     "metadata": {},
     "output_type": "execute_result"
    }
   ],
   "source": [
    "# corpus size\n",
    "len(all)"
   ]
  },
  {
   "cell_type": "markdown",
   "metadata": {},
   "source": [
    "Check and remember where each word appears.\n",
    "Start from two empty dictionaries, one for each sentence.\n",
    "Add the words that appear in the sentences, every time they repeat."
   ]
  },
  {
   "cell_type": "code",
   "execution_count": 6,
   "metadata": {},
   "outputs": [
    {
     "data": {
      "text/plain": [
       "{'dig': 0, 'Hej': 1, 'mig': 0, 'dig.': 1, 'med': 1}"
      ]
     },
     "execution_count": 6,
     "metadata": {},
     "output_type": "execute_result"
    }
   ],
   "source": [
    "# create dict with the words are the keys and the numbers of their appearance as values\n",
    "dict1 = dict.fromkeys(all, 0) \n",
    "for word in sent1:\n",
    "    dict1[word]+=1\n",
    "dict1       "
   ]
  },
  {
   "cell_type": "code",
   "execution_count": 7,
   "metadata": {},
   "outputs": [
    {
     "data": {
      "text/plain": [
       "{'dig': 1, 'Hej': 1, 'mig': 1, 'dig.': 0, 'med': 2}"
      ]
     },
     "execution_count": 7,
     "metadata": {},
     "output_type": "execute_result"
    }
   ],
   "source": [
    "dict2 = dict.fromkeys(all, 0)  \n",
    "for word in sent2:\n",
    "    dict2[word]+=1\n",
    "dict2 "
   ]
  },
  {
   "cell_type": "code",
   "execution_count": 8,
   "metadata": {},
   "outputs": [
    {
     "data": {
      "text/html": [
       "<div>\n",
       "<style scoped>\n",
       "    .dataframe tbody tr th:only-of-type {\n",
       "        vertical-align: middle;\n",
       "    }\n",
       "\n",
       "    .dataframe tbody tr th {\n",
       "        vertical-align: top;\n",
       "    }\n",
       "\n",
       "    .dataframe thead th {\n",
       "        text-align: right;\n",
       "    }\n",
       "</style>\n",
       "<table border=\"1\" class=\"dataframe\">\n",
       "  <thead>\n",
       "    <tr style=\"text-align: right;\">\n",
       "      <th></th>\n",
       "      <th>dig</th>\n",
       "      <th>Hej</th>\n",
       "      <th>mig</th>\n",
       "      <th>dig.</th>\n",
       "      <th>med</th>\n",
       "    </tr>\n",
       "  </thead>\n",
       "  <tbody>\n",
       "    <tr>\n",
       "      <th>0</th>\n",
       "      <td>0</td>\n",
       "      <td>1</td>\n",
       "      <td>0</td>\n",
       "      <td>1</td>\n",
       "      <td>1</td>\n",
       "    </tr>\n",
       "    <tr>\n",
       "      <th>1</th>\n",
       "      <td>1</td>\n",
       "      <td>1</td>\n",
       "      <td>1</td>\n",
       "      <td>0</td>\n",
       "      <td>2</td>\n",
       "    </tr>\n",
       "  </tbody>\n",
       "</table>\n",
       "</div>"
      ],
      "text/plain": [
       "   dig  Hej  mig  dig.  med\n",
       "0    0    1    0     1    1\n",
       "1    1    1    1     0    2"
      ]
     },
     "execution_count": 8,
     "metadata": {},
     "output_type": "execute_result"
    }
   ],
   "source": [
    "# collect the dictionaires in a data frame\n",
    "df = pd.DataFrame([dict1, dict2])\n",
    "df"
   ]
  },
  {
   "cell_type": "markdown",
   "metadata": {},
   "source": [
    "## Similarity of Two Vectors"
   ]
  },
  {
   "cell_type": "code",
   "execution_count": 9,
   "metadata": {},
   "outputs": [],
   "source": [
    "# Calculate dot product of two vectors, divide it by the magnitudes to find the cos(angle between them)\n",
    "# Use the result as a correlation coefficient \n",
    "from collections import Counter\n",
    "\n",
    "def cosine(vector1, vector2):\n",
    "     # calculate nominator as a dot product\n",
    "     intersect = set(vector1.keys()) & set(vector2.keys())\n",
    "     numerator = sum([vector1[x] * vector2[x] for x in intersect])\n",
    "    \n",
    "     # calculate the denominator \n",
    "     sum1 = sum([vector1[x] ** 2 for x in list(vector1.keys())])\n",
    "     sum2 = sum([vector2[x] ** 2 for x in list(vector2.keys())])\n",
    "    \n",
    "     denominator = math.sqrt(sum1) * math.sqrt(sum2)\n",
    "     if not denominator:\n",
    "         return 0.0\n",
    "     else:\n",
    "         return float(numerator)/denominator\n"
   ]
  },
  {
   "cell_type": "code",
   "execution_count": 10,
   "metadata": {},
   "outputs": [
    {
     "name": "stdout",
     "output_type": "stream",
     "text": [
      "Similarity:  0.6546536707079772\n"
     ]
    }
   ],
   "source": [
    "# calculate the correlation\n",
    "corr = cosine(dict1, dict2)\n",
    "print(\"Similarity: \", corr)"
   ]
  },
  {
   "cell_type": "markdown",
   "metadata": {},
   "source": [
    "## Importance of Each Word"
   ]
  },
  {
   "cell_type": "code",
   "execution_count": 11,
   "metadata": {},
   "outputs": [],
   "source": [
    "# a function to compute the TD frequency of appearance of a word in documents\n",
    "def computeTF(dicto, doc):\n",
    "    tfDict = {}\n",
    "    corpus = len(doc) # number of all words\n",
    "    for word, wcount in dicto.items():\n",
    "        tfDict[word] = wcount/float(corpus) # calculete the proportion\n",
    "    return(tfDict)"
   ]
  },
  {
   "cell_type": "code",
   "execution_count": 12,
   "metadata": {},
   "outputs": [],
   "source": [
    "# call the function for both sets\n",
    "tf1 = computeTF(dict1, sent1)\n",
    "tf2 = computeTF(dict2, sent2)"
   ]
  },
  {
   "cell_type": "code",
   "execution_count": 13,
   "metadata": {
    "scrolled": true
   },
   "outputs": [
    {
     "data": {
      "text/html": [
       "<div>\n",
       "<style scoped>\n",
       "    .dataframe tbody tr th:only-of-type {\n",
       "        vertical-align: middle;\n",
       "    }\n",
       "\n",
       "    .dataframe tbody tr th {\n",
       "        vertical-align: top;\n",
       "    }\n",
       "\n",
       "    .dataframe thead th {\n",
       "        text-align: right;\n",
       "    }\n",
       "</style>\n",
       "<table border=\"1\" class=\"dataframe\">\n",
       "  <thead>\n",
       "    <tr style=\"text-align: right;\">\n",
       "      <th></th>\n",
       "      <th>dig</th>\n",
       "      <th>Hej</th>\n",
       "      <th>mig</th>\n",
       "      <th>dig.</th>\n",
       "      <th>med</th>\n",
       "    </tr>\n",
       "  </thead>\n",
       "  <tbody>\n",
       "    <tr>\n",
       "      <th>0</th>\n",
       "      <td>0.0</td>\n",
       "      <td>0.333333</td>\n",
       "      <td>0.0</td>\n",
       "      <td>0.333333</td>\n",
       "      <td>0.333333</td>\n",
       "    </tr>\n",
       "    <tr>\n",
       "      <th>1</th>\n",
       "      <td>0.2</td>\n",
       "      <td>0.200000</td>\n",
       "      <td>0.2</td>\n",
       "      <td>0.000000</td>\n",
       "      <td>0.400000</td>\n",
       "    </tr>\n",
       "  </tbody>\n",
       "</table>\n",
       "</div>"
      ],
      "text/plain": [
       "   dig       Hej  mig      dig.       med\n",
       "0  0.0  0.333333  0.0  0.333333  0.333333\n",
       "1  0.2  0.200000  0.2  0.000000  0.400000"
      ]
     },
     "execution_count": 13,
     "metadata": {},
     "output_type": "execute_result"
    }
   ],
   "source": [
    "# store into dataframe\n",
    "tf = pd.DataFrame([tf1, tf2])\n",
    "tf"
   ]
  },
  {
   "cell_type": "code",
   "execution_count": 14,
   "metadata": {},
   "outputs": [],
   "source": [
    "# IDF -  inverse of the document frequency which measures the informativeness of term t\n",
    "#  lower occurance - higher importance of the word\n",
    "# idf(t) = N/df\n",
    "# to avoid div by zero: idf(t) = log(N/(df + 1))\n",
    "\n",
    "def computeIDF(docList):\n",
    "    idf = {}\n",
    "    N = len(docList)\n",
    "    \n",
    "    idf = dict.fromkeys(docList[0].keys(), 0)\n",
    "    for word, wcount in idf.items():\n",
    "        idf[word] = math.log10(N/(float(wcount) + 1))\n",
    "        \n",
    "    return(idf)"
   ]
  },
  {
   "cell_type": "code",
   "execution_count": 15,
   "metadata": {},
   "outputs": [],
   "source": [
    "#inputing our sentences in the log file\n",
    "idfs = computeIDF([dict1, dict2])"
   ]
  },
  {
   "cell_type": "code",
   "execution_count": 16,
   "metadata": {},
   "outputs": [
    {
     "data": {
      "text/plain": [
       "{'dig': 0.3010299956639812,\n",
       " 'Hej': 0.3010299956639812,\n",
       " 'mig': 0.3010299956639812,\n",
       " 'dig.': 0.3010299956639812,\n",
       " 'med': 0.3010299956639812}"
      ]
     },
     "execution_count": 16,
     "metadata": {},
     "output_type": "execute_result"
    }
   ],
   "source": [
    "idfs"
   ]
  },
  {
   "cell_type": "code",
   "execution_count": 17,
   "metadata": {},
   "outputs": [],
   "source": [
    "# calculate tf-idf as a measure for the importance of a word\n",
    "# tf-idf(t, d) = tf(t, d) * log(N/(df + 1))\n",
    "def computeTFIDF(tf, idfs):\n",
    "    tfidf = {}\n",
    "    for word, wcount in tf.items():\n",
    "        tfidf[word] = wcount*idfs[word]\n",
    "    return(tfidf)\n"
   ]
  },
  {
   "cell_type": "code",
   "execution_count": 18,
   "metadata": {},
   "outputs": [],
   "source": [
    "#running our two sentences through the IDF:\n",
    "idf1 = computeTFIDF(tf1, idfs)\n",
    "idf2 = computeTFIDF(tf2, idfs)\n"
   ]
  },
  {
   "cell_type": "code",
   "execution_count": 19,
   "metadata": {},
   "outputs": [
    {
     "data": {
      "text/html": [
       "<div>\n",
       "<style scoped>\n",
       "    .dataframe tbody tr th:only-of-type {\n",
       "        vertical-align: middle;\n",
       "    }\n",
       "\n",
       "    .dataframe tbody tr th {\n",
       "        vertical-align: top;\n",
       "    }\n",
       "\n",
       "    .dataframe thead th {\n",
       "        text-align: right;\n",
       "    }\n",
       "</style>\n",
       "<table border=\"1\" class=\"dataframe\">\n",
       "  <thead>\n",
       "    <tr style=\"text-align: right;\">\n",
       "      <th></th>\n",
       "      <th>dig</th>\n",
       "      <th>Hej</th>\n",
       "      <th>mig</th>\n",
       "      <th>dig.</th>\n",
       "      <th>med</th>\n",
       "    </tr>\n",
       "  </thead>\n",
       "  <tbody>\n",
       "    <tr>\n",
       "      <th>0</th>\n",
       "      <td>0.000000</td>\n",
       "      <td>0.100343</td>\n",
       "      <td>0.000000</td>\n",
       "      <td>0.100343</td>\n",
       "      <td>0.100343</td>\n",
       "    </tr>\n",
       "    <tr>\n",
       "      <th>1</th>\n",
       "      <td>0.060206</td>\n",
       "      <td>0.060206</td>\n",
       "      <td>0.060206</td>\n",
       "      <td>0.000000</td>\n",
       "      <td>0.120412</td>\n",
       "    </tr>\n",
       "  </tbody>\n",
       "</table>\n",
       "</div>"
      ],
      "text/plain": [
       "        dig       Hej       mig      dig.       med\n",
       "0  0.000000  0.100343  0.000000  0.100343  0.100343\n",
       "1  0.060206  0.060206  0.060206  0.000000  0.120412"
      ]
     },
     "execution_count": 19,
     "metadata": {},
     "output_type": "execute_result"
    }
   ],
   "source": [
    "# store in a dataframe\n",
    "idf= pd.DataFrame([idf1, idf2])\n",
    "idf"
   ]
  },
  {
   "cell_type": "markdown",
   "metadata": {},
   "source": [
    "# Assignment"
   ]
  },
  {
   "cell_type": "code",
   "execution_count": 39,
   "metadata": {},
   "outputs": [
    {
     "name": "stdout",
     "output_type": "stream",
     "text": [
      "{'lost', 'as', 'prime', 'no', 'a', 'friends', 'is', 'elections', 'served', 'career', 'witchhunt', 'some', 'his', 'winning', 'of', 'the', 'do', 'claimed', 'putin', 'in', 'Trump', 'vladimir', 'President', 'to', 'who', 'post', 'friend', 'had', 'he', 'Though', 'He', 'it', 'outcome.', 'became', 'by', 'election', 'earlier', 'minister', 'political', 'Mr.', 'parties.', 'says', 'friends,', 'russia', 'after', 'nothing', 'was', 'with', 'election.', 'president', 'support', 'interference', 'republican', 'Putin'}\n"
     ]
    }
   ],
   "source": [
    "A = \"Mr. Trump became president after winning the political election. Though he lost the support of some republican friends, Trump is friends with President Putin\"\n",
    "B = \"Mr. Trump says President Putin had no political interference is the election outcome. He says it was a witchhunt by political parties. He claimed President Putin is a friend who had nothing to do with the election\"\n",
    "C = \"post elections vladimir putin became president of russia president putin had served as the prime minister earlier in his political career\"\n",
    "\n",
    "A1 = A.split(\" \") \n",
    "B1 = B.split(\" \") \n",
    "C1 = C.split(\" \") \n",
    "\n",
    "# join the sets of words to remove duplications\n",
    "all= set(A1).union(set(B1).union(C1))\n",
    "print(all)"
   ]
  },
  {
   "cell_type": "code",
   "execution_count": 40,
   "metadata": {},
   "outputs": [],
   "source": [
    "def convertTextToVector(text):\n",
    "    x = dict.fromkeys(all, 0) \n",
    "    for word in text:\n",
    "        x[word]+=1\n",
    "    return x"
   ]
  },
  {
   "cell_type": "code",
   "execution_count": 45,
   "metadata": {},
   "outputs": [],
   "source": [
    "def compareVectors(A1, B1, C1):\n",
    "    corrAB = cosine(convertTextToVector(A1), convertTextToVector(B1))\n",
    "    print(\"Similarity: \", corrAB)\n",
    "    \n",
    "    corrAC = cosine(convertTextToVector(A1), convertTextToVector(C1))\n",
    "    print(\"Similarity: \", corrAC)\n",
    "    \n",
    "    corrBC = cosine(convertTextToVector(B1), convertTextToVector(C1))\n",
    "    print(\"Similarity: \", corrBC)\n",
    "    \n",
    "    suggestion = \"\"\n",
    "    \n",
    "    return suggestion"
   ]
  },
  {
   "cell_type": "code",
   "execution_count": 46,
   "metadata": {},
   "outputs": [
    {
     "name": "stdout",
     "output_type": "stream",
     "text": [
      "Similarity:  0.40050093945740706\n",
      "Similarity:  0.2645751311064591\n",
      "Similarity:  0.15894388284780525\n",
      "Text A er skrevet af \n",
      "Text B er skrevet af \n",
      "Text C er skrevet af \n"
     ]
    }
   ],
   "source": [
    "suggestion = compareVectors(A1, B1, C1)\n",
    "print(\"Text A er skrevet af \")\n",
    "print(\"Text B er skrevet af \")\n",
    "print(\"Text C er skrevet af \")"
   ]
  },
  {
   "cell_type": "code",
   "execution_count": null,
   "metadata": {},
   "outputs": [],
   "source": []
  }
 ],
 "metadata": {
  "kernelspec": {
   "display_name": "Python 3",
   "language": "python",
   "name": "python3"
  },
  "language_info": {
   "codemirror_mode": {
    "name": "ipython",
    "version": 3
   },
   "file_extension": ".py",
   "mimetype": "text/x-python",
   "name": "python",
   "nbconvert_exporter": "python",
   "pygments_lexer": "ipython3",
   "version": "3.9.0"
  }
 },
 "nbformat": 4,
 "nbformat_minor": 4
}
